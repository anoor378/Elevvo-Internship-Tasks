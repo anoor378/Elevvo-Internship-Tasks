{
 "cells": [
  {
   "cell_type": "markdown",
   "id": "88508f2e",
   "metadata": {},
   "source": [
    "# **Web Scraping and Analysis of Job Postings**"
   ]
  },
  {
   "cell_type": "markdown",
   "id": "e4cd89b0",
   "metadata": {},
   "source": [
    "**Loading trhe html page**"
   ]
  },
  {
   "cell_type": "code",
   "execution_count": 2,
   "id": "94a765bc",
   "metadata": {},
   "outputs": [
    {
     "name": "stdout",
     "output_type": "stream",
     "text": [
      "Loaded successfully.\n"
     ]
    }
   ],
   "source": [
    "from bs4 import BeautifulSoup\n",
    "import pandas as pd\n",
    "\n",
    "# Load the HTML file\n",
    "with open('job_page.html', 'r', encoding='utf-8') as file:\n",
    "    soup = BeautifulSoup(file, 'html.parser')\n",
    "print(\"Loaded successfully.\")"
   ]
  },
  {
   "cell_type": "markdown",
   "id": "51a792a1",
   "metadata": {},
   "source": [
    "**Extracting the data**"
   ]
  },
  {
   "cell_type": "code",
   "execution_count": 30,
   "id": "a6f114be",
   "metadata": {},
   "outputs": [
    {
     "name": "stdout",
     "output_type": "stream",
     "text": [
      "✅ Job cards found: 15\n",
      "📦 Extracted shape: (15, 5)\n"
     ]
    },
    {
     "data": {
      "text/html": [
       "<div>\n",
       "<style scoped>\n",
       "    .dataframe tbody tr th:only-of-type {\n",
       "        vertical-align: middle;\n",
       "    }\n",
       "\n",
       "    .dataframe tbody tr th {\n",
       "        vertical-align: top;\n",
       "    }\n",
       "\n",
       "    .dataframe thead th {\n",
       "        text-align: right;\n",
       "    }\n",
       "</style>\n",
       "<table border=\"1\" class=\"dataframe\">\n",
       "  <thead>\n",
       "    <tr style=\"text-align: right;\">\n",
       "      <th></th>\n",
       "      <th>Job Title</th>\n",
       "      <th>Company</th>\n",
       "      <th>Location</th>\n",
       "      <th>Posted</th>\n",
       "      <th>Salary</th>\n",
       "    </tr>\n",
       "  </thead>\n",
       "  <tbody>\n",
       "    <tr>\n",
       "      <th>0</th>\n",
       "      <td>Data Analyst</td>\n",
       "      <td>HR Ways</td>\n",
       "      <td>Lahore</td>\n",
       "      <td>Visited 2 minutes ago</td>\n",
       "      <td>Rs 170,000 - Rs 230,000 a month</td>\n",
       "    </tr>\n",
       "    <tr>\n",
       "      <th>1</th>\n",
       "      <td>Junior Data Analyst</td>\n",
       "      <td>King Revolution Inc</td>\n",
       "      <td>Lahore Ismail Nagar</td>\n",
       "      <td>None</td>\n",
       "      <td>Rs 50,000 - Rs 60,000 a month</td>\n",
       "    </tr>\n",
       "    <tr>\n",
       "      <th>2</th>\n",
       "      <td>Junior Data Analyst</td>\n",
       "      <td>Raaziq International PVT LTD</td>\n",
       "      <td>Lahore</td>\n",
       "      <td>None</td>\n",
       "      <td>Rs 50,000 - Rs 55,000 a month</td>\n",
       "    </tr>\n",
       "    <tr>\n",
       "      <th>3</th>\n",
       "      <td>DATA ANALYST</td>\n",
       "      <td>Dignosco</td>\n",
       "      <td>Lahore</td>\n",
       "      <td>None</td>\n",
       "      <td>None</td>\n",
       "    </tr>\n",
       "    <tr>\n",
       "      <th>4</th>\n",
       "      <td>Data Analyst</td>\n",
       "      <td>Mashkraft</td>\n",
       "      <td>Lahore</td>\n",
       "      <td>None</td>\n",
       "      <td>From Rs 35,000 a month</td>\n",
       "    </tr>\n",
       "  </tbody>\n",
       "</table>\n",
       "</div>"
      ],
      "text/plain": [
       "             Job Title                       Company             Location  \\\n",
       "0         Data Analyst                       HR Ways               Lahore   \n",
       "1  Junior Data Analyst           King Revolution Inc  Lahore Ismail Nagar   \n",
       "2  Junior Data Analyst  Raaziq International PVT LTD               Lahore   \n",
       "3         DATA ANALYST                      Dignosco               Lahore   \n",
       "4         Data Analyst                     Mashkraft               Lahore   \n",
       "\n",
       "                  Posted                           Salary  \n",
       "0  Visited 2 minutes ago  Rs 170,000 - Rs 230,000 a month  \n",
       "1                   None    Rs 50,000 - Rs 60,000 a month  \n",
       "2                   None    Rs 50,000 - Rs 55,000 a month  \n",
       "3                   None                             None  \n",
       "4                   None           From Rs 35,000 a month  "
      ]
     },
     "execution_count": 30,
     "metadata": {},
     "output_type": "execute_result"
    }
   ],
   "source": [
    "from bs4 import BeautifulSoup\n",
    "import pandas as pd\n",
    "import re\n",
    "\n",
    "# Load HTML file\n",
    "html_path = \"job_page.html\"\n",
    "with open(html_path, 'r', encoding='utf-8') as file:\n",
    "    soup = BeautifulSoup(file, 'html.parser')\n",
    "\n",
    "# Find job cards\n",
    "job_cards = soup.find_all('div', class_='job_seen_beacon')\n",
    "print(\"✅ Job cards found:\", len(job_cards))\n",
    "\n",
    "# Extract fields\n",
    "refined_jobs = []\n",
    "\n",
    "for card in job_cards:\n",
    "    text_blocks = list(card.stripped_strings)\n",
    "\n",
    "    job_title = text_blocks[0] if len(text_blocks) > 0 else None\n",
    "    company = text_blocks[1] if len(text_blocks) > 1 else None\n",
    "    location = text_blocks[2] if len(text_blocks) > 2 else None\n",
    "\n",
    "    posted = None\n",
    "    salary = None\n",
    "\n",
    "    for text in text_blocks:\n",
    "        if re.search(r'\\brs\\b', text.lower()):\n",
    "            salary = text\n",
    "        elif re.search(r'(just posted|\\d+\\+?\\s?(day|hour|minute)s?)', text.lower()):\n",
    "            posted = text\n",
    "\n",
    "    refined_jobs.append({\n",
    "        'Job Title': job_title,\n",
    "        'Company': company,\n",
    "        'Location': location,\n",
    "        'Posted': posted,\n",
    "        'Salary': salary\n",
    "    })\n",
    "\n",
    "# Create DataFrame\n",
    "refined_df = pd.DataFrame(refined_jobs)\n",
    "print(\"📦 Extracted shape:\", refined_df.shape)\n",
    "refined_df.head()\n"
   ]
  },
  {
   "cell_type": "markdown",
   "id": "52e402a8",
   "metadata": {},
   "source": [
    "**Analyzing the html file**"
   ]
  },
  {
   "cell_type": "code",
   "execution_count": 25,
   "id": "787b4ad1",
   "metadata": {},
   "outputs": [
    {
     "name": "stdout",
     "output_type": "stream",
     "text": [
      "🔹 Top Job Titles:\n",
      "Job Title\n",
      "Data Analyst                                  3\n",
      "Junior Data Analyst                           2\n",
      "DATA ANALYST                                  1\n",
      "Marketing Data Analyst ( Fresh Graduates )    1\n",
      "Financial Analyst - Remote                    1\n",
      "Junior Marketing Data Analyst & Hygienist     1\n",
      "BI Quantitative Analyst                       1\n",
      "Book Keeping/ Data Entry Operator             1\n",
      "Junior Financial Analyst                      1\n",
      "Product Experience Analyst - Lahore           1\n",
      "Name: count, dtype: int64 \n",
      "\n",
      "🔹 Top Hiring Companies:\n",
      "Company\n",
      "Contour Software                3\n",
      "HR Ways                         2\n",
      "Raaziq International PVT LTD    1\n",
      "King Revolution Inc             1\n",
      "Dignosco                        1\n",
      "Mashkraft                       1\n",
      "Fulcrum Pvt Ltd                 1\n",
      "CureMD Healthcare               1\n",
      "Caramel Tech Studios            1\n",
      "One Machine Software            1\n",
      "Name: count, dtype: int64 \n",
      "\n",
      "🔹 Top Locations:\n",
      "Location\n",
      "Lahore                 14\n",
      "Lahore Ismail Nagar     1\n",
      "Name: count, dtype: int64 \n",
      "\n",
      "🔹 Sample Average Salaries:\n",
      "                            Salary  Min Salary  Max Salary  Average Salary\n",
      "0  Rs 170,000 - Rs 230,000 a month      170000      230000        200000.0\n",
      "1    Rs 50,000 - Rs 60,000 a month       50000       60000         55000.0\n",
      "2    Rs 50,000 - Rs 55,000 a month       50000       55000         52500.0\n",
      "4           From Rs 35,000 a month       35000       35000         35000.0\n",
      "5    Rs 50,000 - Rs 60,000 a month       50000       60000         55000.0\n"
     ]
    }
   ],
   "source": [
    "import matplotlib.pyplot as plt\n",
    "import pandas as pd\n",
    "import re\n",
    "\n",
    "# Top job titles\n",
    "print(\"🔹 Top Job Titles:\")\n",
    "print(refined_df['Job Title'].value_counts().head(10), '\\n')\n",
    "\n",
    "# Top companies\n",
    "print(\"🔹 Top Hiring Companies:\")\n",
    "print(refined_df['Company'].value_counts().head(10), '\\n')\n",
    "\n",
    "# Top locations\n",
    "print(\"🔹 Top Locations:\")\n",
    "print(refined_df['Location'].value_counts().head(10), '\\n')\n",
    "\n",
    "# Clean salary column\n",
    "salary_data = refined_df[['Salary']].dropna()\n",
    "salary_data = salary_data[salary_data['Salary'].str.contains('Rs')]\n",
    "\n",
    "def extract_salary_range(s):\n",
    "    match = re.findall(r'Rs\\s*([\\d,]+)', s)\n",
    "    if match:\n",
    "        nums = [int(x.replace(',', '')) for x in match]\n",
    "        return nums[0], nums[1] if len(nums) > 1 else nums[0]\n",
    "    return None, None\n",
    "\n",
    "# Create new columns\n",
    "salary_data[['Min Salary', 'Max Salary']] = salary_data['Salary'].apply(lambda x: pd.Series(extract_salary_range(x)))\n",
    "salary_data['Average Salary'] = salary_data[['Min Salary', 'Max Salary']].mean(axis=1)\n",
    "\n",
    "# View sample salaries\n",
    "print(\"🔹 Sample Average Salaries:\")\n",
    "print(salary_data[['Salary', 'Min Salary', 'Max Salary', 'Average Salary']].head())\n"
   ]
  },
  {
   "cell_type": "code",
   "execution_count": null,
   "id": "182b985e",
   "metadata": {},
   "outputs": [],
   "source": []
  }
 ],
 "metadata": {
  "kernelspec": {
   "display_name": "Python 3",
   "language": "python",
   "name": "python3"
  },
  "language_info": {
   "codemirror_mode": {
    "name": "ipython",
    "version": 3
   },
   "file_extension": ".py",
   "mimetype": "text/x-python",
   "name": "python",
   "nbconvert_exporter": "python",
   "pygments_lexer": "ipython3",
   "version": "3.12.5"
  }
 },
 "nbformat": 4,
 "nbformat_minor": 5
}
